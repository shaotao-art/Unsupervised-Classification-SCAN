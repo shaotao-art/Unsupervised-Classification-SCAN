{
  "cells": [
    {
      "cell_type": "code",
      "execution_count": null,
      "metadata": {
        "id": "vQ7OqZEy_3nE"
      },
      "outputs": [],
      "source": [
        "!nvidia-smi"
      ]
    },
    {
      "cell_type": "code",
      "execution_count": null,
      "metadata": {
        "id": "A7wL1YaD_3nJ"
      },
      "outputs": [],
      "source": [
        "!git clone https://github.com/shaotao-art/Unsupervised-Classification-SCAN.git\n",
        "%cd /content/Unsupervised-Classification-SCAN\n",
        "!pip install faiss-cpu\n",
        "!pwd"
      ]
    },
    {
      "cell_type": "code",
      "execution_count": null,
      "metadata": {
        "id": "yIjYDUhN_3nK"
      },
      "outputs": [],
      "source": [
        "!python simclr.py"
      ]
    },
    {
      "cell_type": "code",
      "source": [
        "!python extract_features.py"
      ],
      "metadata": {
        "id": "L_5ZtH_KBCVj"
      },
      "execution_count": null,
      "outputs": []
    },
    {
      "cell_type": "code",
      "execution_count": null,
      "metadata": {
        "id": "cU_Qkb9L_3nL"
      },
      "outputs": [],
      "source": [
        "!python scan.py"
      ]
    },
    {
      "cell_type": "code",
      "source": [
        "!python selflabel.py"
      ],
      "metadata": {
        "id": "FwiiC6pfA9CD"
      },
      "execution_count": null,
      "outputs": []
    }
  ],
  "metadata": {
    "kernelspec": {
      "display_name": "Python 3.9.12 ('dl')",
      "language": "python",
      "name": "python3"
    },
    "language_info": {
      "codemirror_mode": {
        "name": "ipython",
        "version": 3
      },
      "file_extension": ".py",
      "mimetype": "text/x-python",
      "name": "python",
      "nbconvert_exporter": "python",
      "pygments_lexer": "ipython3",
      "version": "3.9.12"
    },
    "orig_nbformat": 4,
    "vscode": {
      "interpreter": {
        "hash": "b29e1734725db1faeb4b8d5e1c0f2aeef17f9af1ed7138203a137e006bcde4ae"
      }
    },
    "colab": {
      "provenance": [],
      "collapsed_sections": []
    },
    "accelerator": "GPU",
    "gpuClass": "standard"
  },
  "nbformat": 4,
  "nbformat_minor": 0
}